{
  "nbformat": 4,
  "nbformat_minor": 0,
  "metadata": {
    "colab": {
      "name": "Untitled1.ipynb",
      "version": "0.3.2",
      "provenance": [],
      "include_colab_link": true
    },
    "kernelspec": {
      "name": "python3",
      "display_name": "Python 3"
    },
    "accelerator": "GPU"
  },
  "cells": [
    {
      "cell_type": "markdown",
      "metadata": {
        "id": "view-in-github",
        "colab_type": "text"
      },
      "source": [
        "<a href=\"https://colab.research.google.com/github/momusa/.texmf/blob/master/three_level_in_single_mode_cavity.ipynb\" target=\"_parent\"><img src=\"https://colab.research.google.com/assets/colab-badge.svg\" alt=\"Open In Colab\"/></a>"
      ]
    },
    {
      "metadata": {
        "id": "1UoD5ZKWrUAT",
        "colab_type": "code",
        "colab": {
          "base_uri": "https://localhost:8080/",
          "height": 388
        },
        "outputId": "b78361ea-b765-48dd-a9ae-e8790d05c839"
      },
      "cell_type": "code",
      "source": [
        "from qutip import *\n",
        "from pylab import *\n",
        "import scipy\n",
        "\n",
        "def probss(E, kappa, gamma1, gamma2, gamma12, g, wc, w31, w32, w1, wl, N, Omega):\n",
        "    # construct composite operators\n",
        "    ida = qeye(N)\n",
        "    idatom = qeye(3)\n",
        "    sig13 = Qobj([[0, 0, 1],[0, 0, 0],[0, 0, 0]])\n",
        "    sig31 = Qobj([[0, 0, 0],[0, 0, 0],[1, 0, 0]])\n",
        "    sig23 = Qobj([[0, 0, 0],[0, 0, 1],[0, 0, 0]])\n",
        "    sig32 = Qobj([[0, 0, 0],[0, 0, 0],[0, 1, 0]])\n",
        "    sig12 = Qobj([[0, 1, 0],[0, 0, 0],[0, 0, 0]])\n",
        "    sig21 = Qobj([[0, 0, 0],[1, 0, 0],[0, 0, 0]])\n",
        "    sig33 = Qobj([[0, 0, 0],[0, 0, 0],[0, 0, 1]])\n",
        "    sig22 = Qobj([[0, 0, 0],[0, 1, 0],[0, 0, 0]])\n",
        "    \n",
        "    a = tensor(destroy(N), idatom)\n",
        "    s13 = tensor(ida, sig13)\n",
        "    s31 = tensor(ida, sig31)\n",
        "    s23 = tensor(ida, sig23)\n",
        "    s32 = tensor(ida, sig32)\n",
        "    s12 = tensor(ida, sig12)\n",
        "    s21 = tensor(ida, sig21)\n",
        "    s22 = tensor(ida, sig22)\n",
        "    s33 = tensor(ida, sig33)\n",
        "    \n",
        "    # Hamiltonian\n",
        "    H = (w31 - wl) * s31*s13 + (w31 - wl - w32 + w1) * s23*s32 + (wc - wl) * a.dag() * a + \\\n",
        "        g * (a.dag()*s13  +  a*s31) + Omega * (s23 + s32) + E * (a.dag() + a) # E*(s31+s13) #\n",
        "\n",
        "    # Collapse operators\n",
        "    C1 = sqrt(2 * kappa) * a\n",
        "    C2 = sqrt(2 * gamma1) * s13\n",
        "    C3 = sqrt(2 * gamma2) * s32\n",
        "    C4 = sqrt(2 * gamma12) * s12\n",
        "    C1dC1 = C1.dag() * C1\n",
        "    C2dC2 = C2.dag() * C2\n",
        "    C3dC3 = C3.dag() * C3\n",
        "    #C4dC4 = C4.dag() * C4\n",
        "\n",
        "    #method\t‘direct’, ‘eigen’, ‘power’, ‘iterative-gmres’,’iterative-lgmres’, ‘svd’\n",
        "    \n",
        "    # find steady state\n",
        "    rhoss = steadystate(H, [C1, C2, C3, C4],use_precond=True, method='power',sparse=False,use_rcm = True, use_wbm=True,tol=1e-6)\n",
        "\n",
        "    # calculate expectation values\n",
        "    a_dag_a_e = expect(C1dC1, rhoss)\n",
        "    s33_e = expect(C2dC2, rhoss)\n",
        "    s22_e = expect(C3dC3, rhoss)\n",
        "    s13_e = expect(s13,rhoss)\n",
        "    s23_e = expect(s23,rhoss)\n",
        "    s13_a_e = expect(a.dag()*s13,rhoss)\n",
        "    s23_e = expect(s23,rhoss)\n",
        "    a_e = expect(a, rhoss)\n",
        "\n",
        "    return a_dag_a_e, s33_e, s22_e, s13_e, s23_e, s13_a_e, s23_e, a_e\n",
        "\n",
        "\n",
        "# setup the calculation\n",
        "#-----------------------\n",
        "# must be done before parfunc unless we\n",
        "# want to pass all variables as one using\n",
        "# zip function (see documentation for an example)\n",
        "kappa = 0.001\n",
        "gamma1 = 0.001\n",
        "gamma2 = 0.001\n",
        "gamma12 =0.0\n",
        "Omega = 0.1\n",
        "g = 3.0\n",
        "wc = 0.0\n",
        "w31 = 0.0\n",
        "w32 = 0.0\n",
        "wl = 0\n",
        "N =30\n",
        "E = 0.01\n",
        "nloop = 1000\n",
        "w1 = linspace(-5,5,nloop)\n",
        "\n",
        "# define single-variable function for use in parfor\n",
        "# cannot be defined inside run() since it needs to\n",
        "# be passed into seperate threads.\n",
        "def parfunc(w1):  # function of wl only\n",
        "    a_dag_a_e, s33_e, s22_e, s13_e, s23_e, s13_a_e, s23_e, a_e = probss(E, kappa, gamma1, gamma2, gamma12, g, wc, w31, w32, w1, wl, N, Omega)\n",
        "    return a_dag_a_e, s33_e, s22_e, s13_e, s23_e, s13_a_e, s23_e, a_e\n",
        "\n",
        "def run():\n",
        "    # run parallel for-loop over wlist\n",
        "    a_dag_a_e, s33_e, s22_e, s13_e, s23_e, s13_a_e, s23_e, a_e = parfor(parfunc, w1)\n",
        "    \n",
        "   # output_data=vstack((wlist,real(count1), imag(count1),real(count2), imag(count2),real(count3),imag(count3),real(sma),imag(sma), real(infield),imag(infield)))\n",
        "    output_data=vstack((w1,real(a_dag_a_e),real(s33_e),real(s22_e), real(s13_e), imag(s13_e),real(s23_e), imag(s23_e),real(s13_a_e), imag(s13_a_e),real(s23_e), imag(s23_e), real(a_e),imag(a_e)))\n",
        "    file_data_store('/home/photon/Dropbox/Documents/manuscripts/data/three_level_strong_cavity/quantum_model/g_3_Omeg_0_005_k_0_0001_gam1_0_0001_gam2_0_0001_gam12_0_0_E_0_040.dat',output_data.T,numtype=\"real\",sep=\",\")\n",
        "    \n",
        "    # plot cavity emission and qubit spontaneous emssion\n",
        "    fig = figure(1)\n",
        "    ax = fig.add_subplot(111)\n",
        "    #ax.plot(wlist, real(a_dag_a_e), lw=2)\n",
        "    ax.plot(w1, real(a_dag_a_e),lw=2)\n",
        "    xlabel('Drive Frequency Detuning')\n",
        "    ylabel('Count rates')\n",
        "    xlim(-5,5)\n",
        "    ax.grid()\n",
        "    show()\n",
        "\n",
        "\n",
        "if __name__ == \"__main__\":\n",
        "   run()"
      ],
      "execution_count": 1,
      "outputs": [
        {
          "output_type": "error",
          "ename": "ModuleNotFoundError",
          "evalue": "ignored",
          "traceback": [
            "\u001b[0;31m---------------------------------------------------------------------------\u001b[0m",
            "\u001b[0;31mModuleNotFoundError\u001b[0m                       Traceback (most recent call last)",
            "\u001b[0;32m<ipython-input-1-b676cae85406>\u001b[0m in \u001b[0;36m<module>\u001b[0;34m()\u001b[0m\n\u001b[0;32m----> 1\u001b[0;31m \u001b[0;32mfrom\u001b[0m \u001b[0mqutip\u001b[0m \u001b[0;32mimport\u001b[0m \u001b[0;34m*\u001b[0m\u001b[0;34m\u001b[0m\u001b[0;34m\u001b[0m\u001b[0m\n\u001b[0m\u001b[1;32m      2\u001b[0m \u001b[0;32mfrom\u001b[0m \u001b[0mpylab\u001b[0m \u001b[0;32mimport\u001b[0m \u001b[0;34m*\u001b[0m\u001b[0;34m\u001b[0m\u001b[0;34m\u001b[0m\u001b[0m\n\u001b[1;32m      3\u001b[0m \u001b[0;32mimport\u001b[0m \u001b[0mscipy\u001b[0m\u001b[0;34m\u001b[0m\u001b[0;34m\u001b[0m\u001b[0m\n\u001b[1;32m      4\u001b[0m \u001b[0;34m\u001b[0m\u001b[0m\n\u001b[1;32m      5\u001b[0m \u001b[0;32mdef\u001b[0m \u001b[0mprobss\u001b[0m\u001b[0;34m(\u001b[0m\u001b[0mE\u001b[0m\u001b[0;34m,\u001b[0m \u001b[0mkappa\u001b[0m\u001b[0;34m,\u001b[0m \u001b[0mgamma1\u001b[0m\u001b[0;34m,\u001b[0m \u001b[0mgamma2\u001b[0m\u001b[0;34m,\u001b[0m \u001b[0mgamma12\u001b[0m\u001b[0;34m,\u001b[0m \u001b[0mg\u001b[0m\u001b[0;34m,\u001b[0m \u001b[0mwc\u001b[0m\u001b[0;34m,\u001b[0m \u001b[0mw31\u001b[0m\u001b[0;34m,\u001b[0m \u001b[0mw32\u001b[0m\u001b[0;34m,\u001b[0m \u001b[0mw1\u001b[0m\u001b[0;34m,\u001b[0m \u001b[0mwl\u001b[0m\u001b[0;34m,\u001b[0m \u001b[0mN\u001b[0m\u001b[0;34m,\u001b[0m \u001b[0mOmega\u001b[0m\u001b[0;34m)\u001b[0m\u001b[0;34m:\u001b[0m\u001b[0;34m\u001b[0m\u001b[0;34m\u001b[0m\u001b[0m\n",
            "\u001b[0;31mModuleNotFoundError\u001b[0m: No module named 'qutip'",
            "",
            "\u001b[0;31m---------------------------------------------------------------------------\u001b[0;32m\nNOTE: If your import is failing due to a missing package, you can\nmanually install dependencies using either !pip or !apt.\n\nTo view examples of installing some common dependencies, click the\n\"Open Examples\" button below.\n\u001b[0;31m---------------------------------------------------------------------------\u001b[0m\n"
          ]
        }
      ]
    },
    {
      "metadata": {
        "id": "JELJRBf_rfD5",
        "colab_type": "code",
        "colab": {}
      },
      "cell_type": "code",
      "source": [
        ""
      ],
      "execution_count": 0,
      "outputs": []
    }
  ]
}