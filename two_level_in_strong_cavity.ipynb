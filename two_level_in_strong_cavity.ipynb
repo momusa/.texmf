{
  "nbformat": 4,
  "nbformat_minor": 0,
  "metadata": {
    "colab": {
      "name": "Untitled0.ipynb",
      "version": "0.3.2",
      "provenance": [],
      "include_colab_link": true
    },
    "kernelspec": {
      "name": "python3",
      "display_name": "Python 3"
    }
  },
  "cells": [
    {
      "cell_type": "markdown",
      "metadata": {
        "id": "view-in-github",
        "colab_type": "text"
      },
      "source": [
        "<a href=\"https://colab.research.google.com/github/momusa/.texmf/blob/master/two_level_in_strong_cavity.ipynb\" target=\"_parent\"><img src=\"https://colab.research.google.com/assets/colab-badge.svg\" alt=\"Open In Colab\"/></a>"
      ]
    },
    {
      "metadata": {
        "id": "dAw0dsgDn4Ty",
        "colab_type": "code",
        "colab": {}
      },
      "cell_type": "code",
      "source": [
        "from qutip import *\n",
        "from pylab import *\n",
        "\n",
        "\n",
        "def probss(E, kappa, gamma, g, wc, wa, wl, N):\n",
        "    # construct composite operators\n",
        "    ida = qeye(N)\n",
        "    idatom = qeye(2)\n",
        "    a = tensor(destroy(N), idatom)\n",
        "    sm = tensor(ida, sigmam())\n",
        "    sp = tensor(ida, sigmap())\n",
        "    \n",
        "    # Hamiltonian\n",
        "    H = (wa - wl) * sp * sm + (wc - wl) * a.dag() * a + \\\n",
        "        g * (a.dag() * sm + sp * a) + E * (a.dag() + a)#+  E*(sm+sm.dag())#   \n",
        "\n",
        "    # Collapse operators\n",
        "    C1 = sqrt(2 * kappa) * a\n",
        "    C2 = sqrt(2 * gamma) * sm\n",
        "    C1dC1 = C1.dag() * C1\n",
        "    C2dC2 = C2.dag() * C2\n",
        "\n",
        "    # find steady state\n",
        "    rhoss = steadystate(H, [C1, C2],use_precond=True, \n",
        "                method='iterative-bicgstab', use_rcm = False, tol=1e-15)\n",
        "\n",
        "    # calculate expectation values\n",
        "    count1 = expect(C1dC1, rhoss)\n",
        "    count2 = expect(C2dC2, rhoss)\n",
        "    count3 = expect(sm,rhoss)\n",
        "    infield = expect(a, rhoss)\n",
        "    spa = expect(a*sp,rhoss)\n",
        "    sma = expect(a.dag()*sm,rhoss)\n",
        "    return count1, count2, count3, sma, spa, infield\n",
        "\n",
        "\n",
        "# setup the calculation\n",
        "#-----------------------\n",
        "# must be done before parfunc unless we\n",
        "# want to pass all variables as one using\n",
        "# zip function (see documentation for an example)\n",
        "kappa = 0.1\n",
        "gamma = 0.1\n",
        "g = 3.0\n",
        "wc = 0.0\n",
        "wa = 0.0\n",
        "N =20\n",
        "E = 1.20\n",
        "nloop = 4000\n",
        "wlist = linspace(-4.5,4.5,nloop)\n",
        "\n",
        "# define single-variable function for use in parfor\n",
        "# cannot be defined inside run() since it needs to\n",
        "# be passed into seperate threads.\n",
        "def parfunc(wl):  # function of wl only\n",
        "    count1, count2, count3, sma, spa, infield = probss(E, kappa, gamma, g, wc, wa, wl, N)\n",
        "    return count1, count2, count3, sma, spa, infield\n",
        "\n",
        "\n",
        "def run():\n",
        "    # run parallel for-loop over wlist\n",
        "    count1, count2, count3, sma, spa, infield = parfor(parfunc, wlist)\n",
        "    \n",
        "    output_data=vstack((wlist,real(count1), imag(count1),real(count2),imag(count2),real(count3),imag(count3),real(sma),imag(sma),real(infield),imag(infield)))\n",
        "   # output_data=vstack((wlist,real(count3),imag(count3),real(infield),imag(infield),real(sma), imag(sma),real(spa), imag(spa)))\n",
        "    file_data_store('/home/photon/Dropbox/data/two_level/borderline_g3_k_gam_0_1_eta1_50.csv',output_data.T,numtype=\"real\",numformat=\"decimal\",sep=\",\")\n",
        "    \n",
        "    # plot cavity emission and qubit spontaneous emssion\n",
        "    fig = figure(1)\n",
        "    ax = fig.add_subplot(111)\n",
        "    ax.plot(wlist, real(sma), lw=2)\n",
        "    ax.plot(wlist, imag(sma), wlist, imag(sma), wlist, imag(spa), wlist, imag(spa),lw=2)\n",
        "    xlabel('Drive Frequency Detuning')\n",
        "    ylabel('Count rates')\n",
        "    show()\n",
        "\n",
        "    # plot phase shift of cavity light\n",
        "    #fig2 = figure(2)\n",
        "    #ax2 = fig2.add_subplot(111)\n",
        "    #ax2.plot(wlist, imag(sma), wlist, imag(count3), wlist, real(infield), lw=2)\n",
        "    #xlabel('Drive Frequency Detuning')\n",
        "    #ylabel('Intracavity phase shift')\n",
        "    #show()\n",
        "\n",
        "\n",
        "if __name__ == \"__main__\":\n",
        "    run()"
      ],
      "execution_count": 0,
      "outputs": []
    },
    {
      "metadata": {
        "id": "FmmG3Dv-oBtD",
        "colab_type": "code",
        "colab": {}
      },
      "cell_type": "code",
      "source": [
        ""
      ],
      "execution_count": 0,
      "outputs": []
    }
  ]
}